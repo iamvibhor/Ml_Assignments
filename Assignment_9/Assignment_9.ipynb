{
  "nbformat": 4,
  "nbformat_minor": 0,
  "metadata": {
    "colab": {
      "name": "Assignment_9.ipynb",
      "version": "0.3.2",
      "provenance": [],
      "collapsed_sections": []
    },
    "kernelspec": {
      "display_name": "Python 3",
      "language": "python",
      "name": "python3"
    }
  },
  "cells": [
    {
      "metadata": {
        "id": "arSPVTTU5q3s",
        "colab_type": "code",
        "colab": {}
      },
      "cell_type": "code",
      "source": [
        "import numpy as np\n",
        "import pandas as pd\n",
        "import matplotlib.pyplot as plt\n",
        "import sklearn as sk"
      ],
      "execution_count": 0,
      "outputs": []
    },
    {
      "metadata": {
        "id": "A3MMGhj15q3x",
        "colab_type": "code",
        "colab": {}
      },
      "cell_type": "code",
      "source": [
        "trf=pd.read_csv('https://raw.githubusercontent.com/Shreyas3108/Titanic-EDA-and-Survival-prediction/master/train.csv')\n",
        "tf=pd.read_csv('https://raw.githubusercontent.com/Shreyas3108/Titanic-EDA-and-Survival-prediction/master/test.csv')"
      ],
      "execution_count": 0,
      "outputs": []
    },
    {
      "metadata": {
        "id": "1WC8Xlc15q31",
        "colab_type": "code",
        "colab": {
          "base_uri": "https://localhost:8080/",
          "height": 194
        },
        "outputId": "58405df9-94f5-4742-e01b-e293881a8c59"
      },
      "cell_type": "code",
      "source": [
        "#1\n",
        "data=[trf,tf]\n",
        "df=pd.concat(data)\n",
        "df.head(5)"
      ],
      "execution_count": 44,
      "outputs": [
        {
          "output_type": "execute_result",
          "data": {
            "text/html": [
              "<div>\n",
              "<style scoped>\n",
              "    .dataframe tbody tr th:only-of-type {\n",
              "        vertical-align: middle;\n",
              "    }\n",
              "\n",
              "    .dataframe tbody tr th {\n",
              "        vertical-align: top;\n",
              "    }\n",
              "\n",
              "    .dataframe thead th {\n",
              "        text-align: right;\n",
              "    }\n",
              "</style>\n",
              "<table border=\"1\" class=\"dataframe\">\n",
              "  <thead>\n",
              "    <tr style=\"text-align: right;\">\n",
              "      <th></th>\n",
              "      <th>Age</th>\n",
              "      <th>Cabin</th>\n",
              "      <th>Embarked</th>\n",
              "      <th>Fare</th>\n",
              "      <th>Name</th>\n",
              "      <th>Parch</th>\n",
              "      <th>PassengerId</th>\n",
              "      <th>Pclass</th>\n",
              "      <th>Sex</th>\n",
              "      <th>SibSp</th>\n",
              "      <th>Survived</th>\n",
              "      <th>Ticket</th>\n",
              "    </tr>\n",
              "  </thead>\n",
              "  <tbody>\n",
              "    <tr>\n",
              "      <th>0</th>\n",
              "      <td>22.0</td>\n",
              "      <td>NaN</td>\n",
              "      <td>S</td>\n",
              "      <td>7.2500</td>\n",
              "      <td>Braund, Mr. Owen Harris</td>\n",
              "      <td>0</td>\n",
              "      <td>1</td>\n",
              "      <td>3</td>\n",
              "      <td>male</td>\n",
              "      <td>1</td>\n",
              "      <td>0.0</td>\n",
              "      <td>A/5 21171</td>\n",
              "    </tr>\n",
              "    <tr>\n",
              "      <th>1</th>\n",
              "      <td>38.0</td>\n",
              "      <td>C85</td>\n",
              "      <td>C</td>\n",
              "      <td>71.2833</td>\n",
              "      <td>Cumings, Mrs. John Bradley (Florence Briggs Th...</td>\n",
              "      <td>0</td>\n",
              "      <td>2</td>\n",
              "      <td>1</td>\n",
              "      <td>female</td>\n",
              "      <td>1</td>\n",
              "      <td>1.0</td>\n",
              "      <td>PC 17599</td>\n",
              "    </tr>\n",
              "    <tr>\n",
              "      <th>2</th>\n",
              "      <td>26.0</td>\n",
              "      <td>NaN</td>\n",
              "      <td>S</td>\n",
              "      <td>7.9250</td>\n",
              "      <td>Heikkinen, Miss. Laina</td>\n",
              "      <td>0</td>\n",
              "      <td>3</td>\n",
              "      <td>3</td>\n",
              "      <td>female</td>\n",
              "      <td>0</td>\n",
              "      <td>1.0</td>\n",
              "      <td>STON/O2. 3101282</td>\n",
              "    </tr>\n",
              "    <tr>\n",
              "      <th>3</th>\n",
              "      <td>35.0</td>\n",
              "      <td>C123</td>\n",
              "      <td>S</td>\n",
              "      <td>53.1000</td>\n",
              "      <td>Futrelle, Mrs. Jacques Heath (Lily May Peel)</td>\n",
              "      <td>0</td>\n",
              "      <td>4</td>\n",
              "      <td>1</td>\n",
              "      <td>female</td>\n",
              "      <td>1</td>\n",
              "      <td>1.0</td>\n",
              "      <td>113803</td>\n",
              "    </tr>\n",
              "    <tr>\n",
              "      <th>4</th>\n",
              "      <td>35.0</td>\n",
              "      <td>NaN</td>\n",
              "      <td>S</td>\n",
              "      <td>8.0500</td>\n",
              "      <td>Allen, Mr. William Henry</td>\n",
              "      <td>0</td>\n",
              "      <td>5</td>\n",
              "      <td>3</td>\n",
              "      <td>male</td>\n",
              "      <td>0</td>\n",
              "      <td>0.0</td>\n",
              "      <td>373450</td>\n",
              "    </tr>\n",
              "  </tbody>\n",
              "</table>\n",
              "</div>"
            ],
            "text/plain": [
              "    Age Cabin Embarked     Fare  \\\n",
              "0  22.0   NaN        S   7.2500   \n",
              "1  38.0   C85        C  71.2833   \n",
              "2  26.0   NaN        S   7.9250   \n",
              "3  35.0  C123        S  53.1000   \n",
              "4  35.0   NaN        S   8.0500   \n",
              "\n",
              "                                                Name  Parch  PassengerId  \\\n",
              "0                            Braund, Mr. Owen Harris      0            1   \n",
              "1  Cumings, Mrs. John Bradley (Florence Briggs Th...      0            2   \n",
              "2                             Heikkinen, Miss. Laina      0            3   \n",
              "3       Futrelle, Mrs. Jacques Heath (Lily May Peel)      0            4   \n",
              "4                           Allen, Mr. William Henry      0            5   \n",
              "\n",
              "   Pclass     Sex  SibSp  Survived            Ticket  \n",
              "0       3    male      1       0.0         A/5 21171  \n",
              "1       1  female      1       1.0          PC 17599  \n",
              "2       3  female      0       1.0  STON/O2. 3101282  \n",
              "3       1  female      1       1.0            113803  \n",
              "4       3    male      0       0.0            373450  "
            ]
          },
          "metadata": {
            "tags": []
          },
          "execution_count": 44
        }
      ]
    },
    {
      "metadata": {
        "id": "IvY5Pkz45q38",
        "colab_type": "code",
        "colab": {}
      },
      "cell_type": "code",
      "source": [
        "#2\n",
        "df.Survived=df.Survived.dropna()"
      ],
      "execution_count": 0,
      "outputs": []
    },
    {
      "metadata": {
        "id": "CwFI5iHx5q4A",
        "colab_type": "code",
        "colab": {}
      },
      "cell_type": "code",
      "source": [
        "#3\n",
        "df['Has_Cabin']=df['Cabin'].isnull()"
      ],
      "execution_count": 0,
      "outputs": []
    },
    {
      "metadata": {
        "id": "Tb6ph4V_5q4F",
        "colab_type": "code",
        "colab": {}
      },
      "cell_type": "code",
      "source": [
        "#4\n",
        "l1=[]\n",
        "l2=[\"Mr.\", \"Mrs.\", \"Master.\", \"Miss.\"]\n",
        "for i in df.Name:\n",
        "    l=list(str(i).split(','))\n",
        "    ls=list(str(l[1]).split())\n",
        "    if(ls[0] in l2):\n",
        "      l1.append(ls[0][0:-1])\n",
        "    else:\n",
        "      l1.append('Special')\n",
        "df['Title']=l1"
      ],
      "execution_count": 0,
      "outputs": []
    },
    {
      "metadata": {
        "id": "xfC27BXS5q4I",
        "colab_type": "code",
        "colab": {}
      },
      "cell_type": "code",
      "source": [
        "#5\n",
        "df['Embarked']=df['Embarked'].fillna('S')\n",
        "df['Cabin']=df['Cabin'].fillna(value='C25')\n",
        "df['Age']=df['Age'].fillna(df['Age'].mean())\n",
        "df['Fare']=df['Fare'].fillna(df['Fare'].mean())"
      ],
      "execution_count": 0,
      "outputs": []
    },
    {
      "metadata": {
        "id": "rVmOhtey5q4N",
        "colab_type": "code",
        "colab": {}
      },
      "cell_type": "code",
      "source": [
        "#6\n",
        "df['Categorical_age']=pd.qcut(df.Age,4,labels=False)\n",
        "df['Categorical_fare']=pd.qcut(df.Fare,4,labels=False)"
      ],
      "execution_count": 0,
      "outputs": []
    },
    {
      "metadata": {
        "id": "aSPMm7q35q4S",
        "colab_type": "code",
        "colab": {}
      },
      "cell_type": "code",
      "source": [
        "#7\n",
        "df=df.drop(columns=['Cabin','Name','PassengerId','Ticket','Age','Fare','SibSp','Parch'])"
      ],
      "execution_count": 0,
      "outputs": []
    },
    {
      "metadata": {
        "id": "vkA6GMPA5q4W",
        "colab_type": "code",
        "colab": {
          "base_uri": "https://localhost:8080/",
          "height": 106
        },
        "outputId": "aeb42785-a833-46cd-97b1-356b225944d2"
      },
      "cell_type": "code",
      "source": [
        "#8\n",
        "df=pd.get_dummies(df)\n",
        "df.columns"
      ],
      "execution_count": 51,
      "outputs": [
        {
          "output_type": "execute_result",
          "data": {
            "text/plain": [
              "Index(['Pclass', 'Survived', 'Has_Cabin', 'Categorical_age',\n",
              "       'Categorical_fare', 'Embarked_C', 'Embarked_Q', 'Embarked_S',\n",
              "       'Sex_female', 'Sex_male', 'Title_Master', 'Title_Miss', 'Title_Mr',\n",
              "       'Title_Mrs', 'Title_Special'],\n",
              "      dtype='object')"
            ]
          },
          "metadata": {
            "tags": []
          },
          "execution_count": 51
        }
      ]
    },
    {
      "metadata": {
        "id": "1OdtIGPV5q4Z",
        "colab_type": "code",
        "colab": {}
      },
      "cell_type": "code",
      "source": [
        "#9\n",
        "x=df[['Pclass', 'Has_Cabin', 'Categorical_age',\n",
        "       'Categorical_fare', 'Embarked_C', 'Embarked_Q', 'Embarked_S',\n",
        "       'Sex_female', 'Sex_male', 'Title_Master', 'Title_Miss', 'Title_Mr',\n",
        "       'Title_Mrs', 'Title_Special']]\n",
        "y=df['Survived']"
      ],
      "execution_count": 0,
      "outputs": []
    },
    {
      "metadata": {
        "id": "M5mmIqqi5q4f",
        "colab_type": "code",
        "colab": {}
      },
      "cell_type": "code",
      "source": [
        "#10\n",
        "from sklearn.model_selection import train_test_split\n",
        "x_train,x_test,y_train,y_test=train_test_split(x,y,test_size=0.15,random_state=0)"
      ],
      "execution_count": 0,
      "outputs": []
    },
    {
      "metadata": {
        "id": "U_GJEddw5q4i",
        "colab_type": "code",
        "colab": {
          "base_uri": "https://localhost:8080/",
          "height": 124
        },
        "outputId": "9f1dc8e5-8eea-4d56-b5b7-043a8f2aa6ac"
      },
      "cell_type": "code",
      "source": [
        "from sklearn.linear_model import LogisticRegression\n",
        "lr=LogisticRegression()\n",
        "lr.fit(x_train,y_train)"
      ],
      "execution_count": 58,
      "outputs": [
        {
          "output_type": "stream",
          "text": [
            "/usr/local/lib/python3.6/dist-packages/sklearn/linear_model/logistic.py:433: FutureWarning: Default solver will be changed to 'lbfgs' in 0.22. Specify a solver to silence this warning.\n",
            "  FutureWarning)\n"
          ],
          "name": "stderr"
        },
        {
          "output_type": "execute_result",
          "data": {
            "text/plain": [
              "LogisticRegression(C=1.0, class_weight=None, dual=False, fit_intercept=True,\n",
              "          intercept_scaling=1, max_iter=100, multi_class='warn',\n",
              "          n_jobs=None, penalty='l2', random_state=None, solver='warn',\n",
              "          tol=0.0001, verbose=0, warm_start=False)"
            ]
          },
          "metadata": {
            "tags": []
          },
          "execution_count": 58
        }
      ]
    },
    {
      "metadata": {
        "id": "1htTMYYi5q4m",
        "colab_type": "code",
        "colab": {}
      },
      "cell_type": "code",
      "source": [
        "predictions=lr.predict(x_test)"
      ],
      "execution_count": 0,
      "outputs": []
    },
    {
      "metadata": {
        "id": "E-RK9aQ35q4p",
        "colab_type": "code",
        "colab": {
          "base_uri": "https://localhost:8080/",
          "height": 35
        },
        "outputId": "8652c9e6-f5c0-4a2c-b858-f1b7c14b7c19"
      },
      "cell_type": "code",
      "source": [
        "#11\n",
        "lr.score(x_test,y_test)"
      ],
      "execution_count": 60,
      "outputs": [
        {
          "output_type": "execute_result",
          "data": {
            "text/plain": [
              "0.7309644670050761"
            ]
          },
          "metadata": {
            "tags": []
          },
          "execution_count": 60
        }
      ]
    }
  ]
}